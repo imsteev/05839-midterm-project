{
 "cells": [
  {
   "cell_type": "code",
   "execution_count": 9,
   "metadata": {},
   "outputs": [],
   "source": [
    "import pandas as pd\n",
    "import numpy as np\n",
    "import plotly.plotly as py\n",
    "import plotly.graph_objs as go"
   ]
  },
  {
   "cell_type": "code",
   "execution_count": 10,
   "metadata": {},
   "outputs": [],
   "source": [
    "# dataset from https://www.kaggle.com/edumucelli/spotifys-worldwide-daily-song-ranking/data\n",
    "def create_region_csv(region):\n",
    "    with open(\"./data.csv\") as csvfile:\n",
    "        df = pd.read_csv(csvfile)\n",
    "        g = df.groupby('Region')\n",
    "        region_df = g.get_group(region)\n",
    "        filename = \"./%s_data.csv\" % region\n",
    "        with open(filename, \"w\") as csvtosave:\n",
    "            region_df.to_csv(csvtosave, index=False, columns=['Position', 'Track Name', 'Artist', 'Streams', 'Date'])"
   ]
  },
  {
   "cell_type": "code",
   "execution_count": 11,
   "metadata": {},
   "outputs": [],
   "source": [
    "# create_region_csv('us')"
   ]
  },
  {
   "cell_type": "code",
   "execution_count": 12,
   "metadata": {},
   "outputs": [],
   "source": [
    "with open (\"./us_data.csv\") as csvfile:\n",
    "    df = pd.read_csv(csvfile)"
   ]
  },
  {
   "cell_type": "code",
   "execution_count": 13,
   "metadata": {},
   "outputs": [],
   "source": [
    "# Compute the position deltas for each song based on the song's previous position\n",
    "for track_name in df['Track Name'].unique():\n",
    "    song_df = df[df['Track Name'] == track_name]\n",
    "    df.loc[df['Track Name'] == track_name, 'Position Diff'] = song_df['Position'] - song_df.shift()['Position']"
   ]
  },
  {
   "cell_type": "code",
   "execution_count": 14,
   "metadata": {},
   "outputs": [
    {
     "name": "stdout",
     "output_type": "stream",
     "text": [
      "       Position                           Track Name Artist  Streams  \\\n",
      "0             1  Bad and Boujee (feat. Lil Uzi Vert)  Migos  1371493   \n",
      "200           1  Bad and Boujee (feat. Lil Uzi Vert)  Migos  1161746   \n",
      "400           1  Bad and Boujee (feat. Lil Uzi Vert)  Migos  1284891   \n",
      "600           1  Bad and Boujee (feat. Lil Uzi Vert)  Migos  1293486   \n",
      "800           1  Bad and Boujee (feat. Lil Uzi Vert)  Migos  1295592   \n",
      "1002          3  Bad and Boujee (feat. Lil Uzi Vert)  Migos  1328631   \n",
      "1201          2  Bad and Boujee (feat. Lil Uzi Vert)  Migos  1281623   \n",
      "1401          2  Bad and Boujee (feat. Lil Uzi Vert)  Migos  1189435   \n",
      "1601          2  Bad and Boujee (feat. Lil Uzi Vert)  Migos  1465579   \n",
      "1800          1  Bad and Boujee (feat. Lil Uzi Vert)  Migos  1554966   \n",
      "2000          1  Bad and Boujee (feat. Lil Uzi Vert)  Migos  1591603   \n",
      "2200          1  Bad and Boujee (feat. Lil Uzi Vert)  Migos  1618538   \n",
      "2400          1  Bad and Boujee (feat. Lil Uzi Vert)  Migos  1670271   \n",
      "2510        111                              T-Shirt  Migos   222242   \n",
      "2600          1  Bad and Boujee (feat. Lil Uzi Vert)  Migos  1611831   \n",
      "2656         57                              T-Shirt  Migos   297875   \n",
      "2706        107                         Call Casting  Migos   220427   \n",
      "2800          1  Bad and Boujee (feat. Lil Uzi Vert)  Migos  1461746   \n",
      "2854         55                              T-Shirt  Migos   293472   \n",
      "2914        115                         Call Casting  Migos   189067   \n",
      "3000          1  Bad and Boujee (feat. Lil Uzi Vert)  Migos  1429451   \n",
      "3047         48                              T-Shirt  Migos   330652   \n",
      "3115        116                         Call Casting  Migos   199966   \n",
      "3200          1  Bad and Boujee (feat. Lil Uzi Vert)  Migos  1442031   \n",
      "3228         29                              T-Shirt  Migos   440454   \n",
      "3303        104                         Call Casting  Migos   223833   \n",
      "3400          1  Bad and Boujee (feat. Lil Uzi Vert)  Migos  1474117   \n",
      "3417         18                              T-Shirt  Migos   544806   \n",
      "3522        123                         Call Casting  Migos   204835   \n",
      "3600          1  Bad and Boujee (feat. Lil Uzi Vert)  Migos  1473415   \n",
      "...         ...                                  ...    ...      ...   \n",
      "73056        57          Slippery (feat. Gucci Mane)  Migos   355517   \n",
      "73108       109  Bad and Boujee (feat. Lil Uzi Vert)  Migos   253745   \n",
      "73147       148                              T-Shirt  Migos   209629   \n",
      "73223        24                           MotorSport  Migos   637305   \n",
      "73242        43                             Stir Fry  Migos   480655   \n",
      "73259        60          Slippery (feat. Gucci Mane)  Migos   369797   \n",
      "73306       107  Bad and Boujee (feat. Lil Uzi Vert)  Migos   264825   \n",
      "73346       147                              T-Shirt  Migos   218380   \n",
      "73418        19                           MotorSport  Migos   633160   \n",
      "73437        38                             Stir Fry  Migos   497338   \n",
      "73455        56          Slippery (feat. Gucci Mane)  Migos   373691   \n",
      "73493        94  Bad and Boujee (feat. Lil Uzi Vert)  Migos   266407   \n",
      "73541       142                              T-Shirt  Migos   213642   \n",
      "73596       197     Danger (with Migos & Marshmello)  Migos   173880   \n",
      "73619        20                           MotorSport  Migos   583063   \n",
      "73640        41                             Stir Fry  Migos   440590   \n",
      "73654        55          Slippery (feat. Gucci Mane)  Migos   350470   \n",
      "73702       103  Bad and Boujee (feat. Lil Uzi Vert)  Migos   240690   \n",
      "73745       146                              T-Shirt  Migos   194176   \n",
      "73797       198     Danger (with Migos & Marshmello)  Migos   158485   \n",
      "73821        22                           MotorSport  Migos   617121   \n",
      "73835        36                             Stir Fry  Migos   515096   \n",
      "73864        65          Slippery (feat. Gucci Mane)  Migos   351077   \n",
      "73926       127  Bad and Boujee (feat. Lil Uzi Vert)  Migos   235851   \n",
      "73954       155                              T-Shirt  Migos   204858   \n",
      "74024        25                           MotorSport  Migos   635680   \n",
      "74035        36                             Stir Fry  Migos   536702   \n",
      "74064        65          Slippery (feat. Gucci Mane)  Migos   367838   \n",
      "74128       129  Bad and Boujee (feat. Lil Uzi Vert)  Migos   243022   \n",
      "74149       150                              T-Shirt  Migos   214198   \n",
      "\n",
      "             Date  Position Diff  \n",
      "0      2017-01-01            NaN  \n",
      "200    2017-01-02            0.0  \n",
      "400    2017-01-03            0.0  \n",
      "600    2017-01-04            0.0  \n",
      "800    2017-01-05            0.0  \n",
      "1002   2017-01-06            2.0  \n",
      "1201   2017-01-07           -1.0  \n",
      "1401   2017-01-08            0.0  \n",
      "1601   2017-01-09            0.0  \n",
      "1800   2017-01-10           -1.0  \n",
      "2000   2017-01-11            0.0  \n",
      "2200   2017-01-12            0.0  \n",
      "2400   2017-01-13            0.0  \n",
      "2510   2017-01-13            NaN  \n",
      "2600   2017-01-14            0.0  \n",
      "2656   2017-01-14          -54.0  \n",
      "2706   2017-01-14            NaN  \n",
      "2800   2017-01-15            0.0  \n",
      "2854   2017-01-15           -2.0  \n",
      "2914   2017-01-15            8.0  \n",
      "3000   2017-01-16            0.0  \n",
      "3047   2017-01-16           -7.0  \n",
      "3115   2017-01-16            1.0  \n",
      "3200   2017-01-17            0.0  \n",
      "3228   2017-01-17          -19.0  \n",
      "3303   2017-01-17          -12.0  \n",
      "3400   2017-01-18            0.0  \n",
      "3417   2017-01-18          -11.0  \n",
      "3522   2017-01-18           19.0  \n",
      "3600   2017-01-19            0.0  \n",
      "...           ...            ...  \n",
      "73056  2018-01-04            4.0  \n",
      "73108  2018-01-04           -3.0  \n",
      "73147  2018-01-04           -4.0  \n",
      "73223  2018-01-05            3.0  \n",
      "73242  2018-01-05           -1.0  \n",
      "73259  2018-01-05            3.0  \n",
      "73306  2018-01-05           -2.0  \n",
      "73346  2018-01-05           -1.0  \n",
      "73418  2018-01-06           -5.0  \n",
      "73437  2018-01-06           -5.0  \n",
      "73455  2018-01-06           -4.0  \n",
      "73493  2018-01-06          -13.0  \n",
      "73541  2018-01-06           -5.0  \n",
      "73596  2018-01-06           19.0  \n",
      "73619  2018-01-07            1.0  \n",
      "73640  2018-01-07            3.0  \n",
      "73654  2018-01-07           -1.0  \n",
      "73702  2018-01-07            9.0  \n",
      "73745  2018-01-07            4.0  \n",
      "73797  2018-01-07            1.0  \n",
      "73821  2018-01-08            2.0  \n",
      "73835  2018-01-08           -5.0  \n",
      "73864  2018-01-08           10.0  \n",
      "73926  2018-01-08           24.0  \n",
      "73954  2018-01-08            9.0  \n",
      "74024  2018-01-09            3.0  \n",
      "74035  2018-01-09            0.0  \n",
      "74064  2018-01-09            0.0  \n",
      "74128  2018-01-09            2.0  \n",
      "74149  2018-01-09           -5.0  \n",
      "\n",
      "[1585 rows x 6 columns]\n"
     ]
    }
   ],
   "source": [
    "print(df[df['Artist'] == \"Migos\"])"
   ]
  },
  {
   "cell_type": "code",
   "execution_count": 15,
   "metadata": {},
   "outputs": [
    {
     "name": "stdout",
     "output_type": "stream",
     "text": [
      "The py_d3 extension is already loaded. To reload it, use:\n",
      "  %reload_ext py_d3\n"
     ]
    }
   ],
   "source": [
    "%load_ext py_d3"
   ]
  },
  {
   "cell_type": "code",
   "execution_count": 16,
   "metadata": {},
   "outputs": [
    {
     "data": {
      "text/html": [
       "\n",
       "<script>\n",
       "requirejs.config({\n",
       "    paths: {\n",
       "        d3: \"//cdnjs.cloudflare.com/ajax/libs/d3/4.13.0/d3\"\n",
       "    }\n",
       "});\n",
       "\n",
       "require([\"d3\"], function(d3) {\n",
       "    window.d3 = d3;\n",
       "});\n",
       "</script>\n",
       "<script>\n",
       "_select = d3.select;\n",
       "\n",
       "d3.select2 = function(selection) {\n",
       "    return _select(\"#d3-cell-2\").select(selection);\n",
       "}\n",
       "d3.selectAll2 = function(selection) {\n",
       "    return _select(\"#d3-cell-2\").selectAll(selection);\n",
       "}\n",
       "</script>\n",
       "\n",
       "<g id=\"d3-cell-2\">\n",
       "        \n",
       "<g></g>\n",
       "<script>\n",
       "d3.select2(\"g\").text(\"Hello World\")\n",
       "</script>\n",
       "</g>"
      ],
      "text/plain": [
       "<IPython.core.display.HTML object>"
      ]
     },
     "metadata": {},
     "output_type": "display_data"
    }
   ],
   "source": [
    "%%d3\n",
    "\n",
    "<g></g>\n",
    "<script>\n",
    "d3.select(\"g\").text(\"Hello World\")\n",
    "</script>"
   ]
  },
  {
   "cell_type": "code",
   "execution_count": 58,
   "metadata": {},
   "outputs": [],
   "source": [
    "def song_pos_traces(tracknames, mode='linemode'):\n",
    "    traces = []\n",
    "    for trackname in tracknames:\n",
    "        track = df[df['Track Name'] == trackname]\n",
    "        track_x = track['Date']\n",
    "        track_y = track['Position']\n",
    "        trace = go.Scatter(\n",
    "            x = track_x,\n",
    "            y = track_y,\n",
    "            mode = mode,\n",
    "            name = trackname,\n",
    "            fill = 'tozeroy'\n",
    "        )\n",
    "        traces.append(trace)\n",
    "    return traces"
   ]
  },
  {
   "cell_type": "code",
   "execution_count": 59,
   "metadata": {},
   "outputs": [
    {
     "name": "stdout",
     "output_type": "stream",
     "text": [
      "High five! You successfully sent some data to your account on plotly. View your plot in your browser at https://plot.ly/~whosteev/0 or inside your plot.ly account where it is named 'line-mode'\n"
     ]
    },
    {
     "data": {
      "text/html": [
       "<iframe id=\"igraph\" scrolling=\"no\" style=\"border:none;\" seamless=\"seamless\" src=\"https://plot.ly/~whosteev/0.embed\" height=\"525px\" width=\"100%\"></iframe>"
      ],
      "text/plain": [
       "<plotly.tools.PlotlyDisplay object>"
      ]
     },
     "execution_count": 59,
     "metadata": {},
     "output_type": "execute_result"
    }
   ],
   "source": [
    "traces = song_pos_traces(['Ric Flair Drip (& Metro Boomin)', 'Location', 'Mask Off', 'All I Want for Christmas Is You'])\n",
    "layout = go.Layout(\n",
    "    yaxis=dict(\n",
    "        autotick=False,\n",
    "        ticks='outside',\n",
    "        tick0=0,\n",
    "        dtick=10,\n",
    "        ticklen=200,\n",
    "        tickcolor='#000'\n",
    "    )\n",
    ")\n",
    "fig = go.Figure(data=traces, layout=layout)\n",
    "py.iplot(fig, filename='line-mode')"
   ]
  },
  {
   "cell_type": "code",
   "execution_count": null,
   "metadata": {},
   "outputs": [],
   "source": []
  }
 ],
 "metadata": {
  "kernelspec": {
   "display_name": "Python 3",
   "language": "python",
   "name": "python3"
  },
  "language_info": {
   "codemirror_mode": {
    "name": "ipython",
    "version": 3
   },
   "file_extension": ".py",
   "mimetype": "text/x-python",
   "name": "python",
   "nbconvert_exporter": "python",
   "pygments_lexer": "ipython3",
   "version": "3.6.0"
  }
 },
 "nbformat": 4,
 "nbformat_minor": 2
}
